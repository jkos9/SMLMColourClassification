{
  "cells": [
    {
      "cell_type": "markdown",
      "metadata": {
        "id": "CU8cgG1raa2u"
      },
      "source": [
        "<h2 style='color:blue' align='center'>Binary Image Classification Using Neural Network (NN)</h2>"
      ]
    },
    {
      "cell_type": "code",
      "execution_count": null,
      "metadata": {
        "id": "ndfjNFQyaa22"
      },
      "outputs": [],
      "source": [
        "import tensorflow as tf\n",
        "from tensorflow.keras import datasets, layers, models\n",
        "import matplotlib.pyplot as plt\n",
        "import numpy as np\n",
        "\n",
        "import skimage.io\n",
        "import matplotlib.pyplot as plt\n",
        "import tensorflow as tf\n",
        "import numpy as np\n",
        "from sklearn.model_selection import train_test_split\n",
        "from tensorflow.keras.optimizers import Adam\n",
        "import pandas as pd \n",
        "\n",
        "from sklearn.utils import shuffle"
      ]
    },
    {
      "cell_type": "markdown",
      "metadata": {
        "id": "ptyJkxkMaa23"
      },
      "source": [
        "<h4 style=\"color:purple\">Load the dataset</h4>"
      ]
    },
    {
      "cell_type": "code",
      "execution_count": null,
      "metadata": {
        "colab": {
          "base_uri": "https://localhost:8080/"
        },
        "id": "SGEnLtmelToF",
        "outputId": "f8ef6991-88a6-43ee-f5b0-4c67dad83184"
      },
      "outputs": [
        {
          "output_type": "stream",
          "name": "stdout",
          "text": [
            "Mounted at /content/drive\n"
          ]
        }
      ],
      "source": [
        "from google.colab import drive\n",
        "drive.mount('/content/drive', force_remount = True)"
      ]
    },
    {
      "cell_type": "code",
      "execution_count": null,
      "metadata": {
        "id": "gez97G42epHA",
        "colab": {
          "base_uri": "https://localhost:8080/"
        },
        "outputId": "1a6e7cc6-0b3c-47e3-d80d-5194c1b1c5bc"
      },
      "outputs": [
        {
          "output_type": "stream",
          "name": "stdout",
          "text": [
            "10000\n",
            "10000\n"
          ]
        }
      ],
      "source": [
        "##/content/drive/MyDrive/emitters/bad_objective_lp3/e525lp10_bo.tiff\n",
        "##/content/drive/MyDrive/emitters/bad_objective_lp3/e605lp3_bo.tiff\n",
        "##/content/drive/MyDrive/emitters/bad_objective_lp3/e655lp3_bo.tiff\n",
        "##/content/drive/MyDrive/emitters/bad_objective_lp3/e705lp10_bo.tiff\n",
        "imagesetA = skimage.io.imread('/content/drive/MyDrive/emitters/good_objective_lp3/e605lp3_go.tiff')\n",
        "imagesetB = skimage.io.imread('/content/drive/MyDrive/emitters/good_objective_lp3/e655lp3_go.tiff')\n",
        "\n",
        "imagesetA = np.array(imagesetA)\n",
        "imagesetB = np.array(imagesetB)\n",
        "\n",
        "a_label = np.full((len(imagesetA), 1), [0])\n",
        "b_label = np.full((len(imagesetB), 1), [1])\n",
        "\n",
        "imageset = np.vstack((imagesetA, imagesetB))\n",
        "labels = np.vstack((a_label, b_label))\n",
        "\n",
        "np.random.seed(420)\n",
        "\n",
        "imageset, labels = shuffle(imageset, labels, random_state=1)\n",
        "\n",
        "X_train, X_test, y_train, y_test = train_test_split(imageset, labels, test_size=0.20, random_state=42)\n",
        "print(len(imagesetA))\n",
        "print(len(imagesetB))"
      ]
    },
    {
      "cell_type": "markdown",
      "metadata": {
        "id": "AtDi9YeMaa3I"
      },
      "source": [
        "<h4 style=\"color:purple\">Now let us build a convolutional neural network to train our images</h4>"
      ]
    },
    {
      "cell_type": "code",
      "execution_count": null,
      "metadata": {
        "id": "UFMyyaus5pWs"
      },
      "outputs": [],
      "source": [
        "from tensorflow.keras.optimizers import Adam"
      ]
    },
    {
      "cell_type": "code",
      "execution_count": null,
      "metadata": {
        "colab": {
          "base_uri": "https://localhost:8080/"
        },
        "id": "YRlcOPrLaa3I",
        "outputId": "9a7592f0-3d80-4833-9874-da61ff4fe00f"
      },
      "outputs": [
        {
          "output_type": "stream",
          "name": "stderr",
          "text": [
            "/usr/local/lib/python3.7/dist-packages/keras/optimizer_v2/adam.py:105: UserWarning: The `lr` argument is deprecated, use `learning_rate` instead.\n",
            "  super(Adam, self).__init__(name, **kwargs)\n"
          ]
        }
      ],
      "source": [
        "\n",
        "cnn = models.Sequential([\n",
        "    layers.Input(shape =(9, 9, 1)),\n",
        "\n",
        "    layers.Dense(units = 128, activation = \"relu\"),\n",
        "    layers.Dense(units = 128, activation = \"relu\"),  \n",
        "    layers.Dense(units = 64, activation = \"relu\"), \n",
        "    layers.Dense(units = 32, activation = \"relu\"),\n",
        "    layers.Dropout(rate=0.5),\n",
        "\n",
        "    layers.Flatten(),\n",
        "    layers.Dense(units = 1, activation = \"sigmoid\")\n",
        "\n",
        "])\n",
        "adam=Adam(lr = 0.00001,\n",
        "    epsilon=1e-08)#lr = 0.1\n",
        "opt = adam\n",
        "\n",
        "cnn.compile(loss='binary_crossentropy', optimizer=opt, metrics=['accuracy'])\n",
        "\n"
      ]
    },
    {
      "cell_type": "code",
      "execution_count": null,
      "metadata": {
        "id": "Jn9RWCt6aa3J",
        "scrolled": false
      },
      "outputs": [],
      "source": [
        "bs = 64\n",
        "cnn.fit(X_train, y_train, epochs=10, batch_size=bs)"
      ]
    },
    {
      "cell_type": "code",
      "execution_count": null,
      "metadata": {
        "id": "n3_xNjX7aa3K",
        "scrolled": true,
        "colab": {
          "base_uri": "https://localhost:8080/"
        },
        "outputId": "e0c7fb8b-4639-474a-cd7a-7b29f994bc5c"
      },
      "outputs": [
        {
          "output_type": "stream",
          "name": "stdout",
          "text": [
            "125/125 [==============================] - 1s 6ms/step - loss: 0.5352 - accuracy: 0.8413\n"
          ]
        },
        {
          "output_type": "execute_result",
          "data": {
            "text/plain": [
              "[0.5351635217666626, 0.8412500023841858]"
            ]
          },
          "metadata": {},
          "execution_count": 7
        }
      ],
      "source": [
        "cnn.evaluate(X_test,y_test)"
      ]
    },
    {
      "cell_type": "code",
      "execution_count": null,
      "metadata": {
        "id": "p_qSvuEIaa3K"
      },
      "outputs": [],
      "source": [
        "y_pred = cnn.predict(X_test)\n"
      ]
    },
    {
      "cell_type": "code",
      "execution_count": null,
      "metadata": {
        "id": "cj0T_KxMaa3L",
        "colab": {
          "base_uri": "https://localhost:8080/"
        },
        "outputId": "c974e7f4-0ea2-4194-be93-cd2560733252"
      },
      "outputs": [
        {
          "output_type": "execute_result",
          "data": {
            "text/plain": [
              "array([[0],\n",
              "       [0],\n",
              "       [1],\n",
              "       [0],\n",
              "       [0],\n",
              "       [0],\n",
              "       [1],\n",
              "       [0],\n",
              "       [1],\n",
              "       [1]])"
            ]
          },
          "metadata": {},
          "execution_count": 9
        }
      ],
      "source": [
        "y_test[:10]"
      ]
    },
    {
      "cell_type": "code",
      "execution_count": null,
      "metadata": {
        "id": "Vtk_DYBO_-1i",
        "colab": {
          "base_uri": "https://localhost:8080/"
        },
        "outputId": "765ceafd-3463-4cc8-b737-93d69a9c06ae"
      },
      "outputs": [
        {
          "output_type": "execute_result",
          "data": {
            "text/plain": [
              "array([[0.43611455],\n",
              "       [0.28777194],\n",
              "       [0.6031997 ],\n",
              "       [0.59512866],\n",
              "       [0.4094461 ],\n",
              "       [0.5436478 ],\n",
              "       [0.6205572 ],\n",
              "       [0.6319022 ],\n",
              "       [0.6233134 ],\n",
              "       [0.59934115]], dtype=float32)"
            ]
          },
          "metadata": {},
          "execution_count": 10
        }
      ],
      "source": [
        "y_pred[:10]"
      ]
    },
    {
      "cell_type": "code",
      "execution_count": null,
      "metadata": {
        "id": "tGLipF_faa3L",
        "colab": {
          "base_uri": "https://localhost:8080/"
        },
        "outputId": "e458409a-56cc-495d-b29d-ba0fcac4ac1a"
      },
      "outputs": [
        {
          "output_type": "execute_result",
          "data": {
            "text/plain": [
              "[0, 0, 0, 0, 0, 0, 0, 0, 0, 0]"
            ]
          },
          "metadata": {},
          "execution_count": 11
        }
      ],
      "source": [
        "y_classes = [np.argmax(element) for element in y_pred]\n",
        "y_classes[:10]"
      ]
    },
    {
      "cell_type": "code",
      "execution_count": null,
      "metadata": {
        "id": "QmNQ0yGiaa3M",
        "colab": {
          "base_uri": "https://localhost:8080/",
          "height": 171
        },
        "outputId": "a919cae6-c4f2-46d3-fc90-f81b4a287671"
      },
      "outputs": [
        {
          "output_type": "error",
          "ename": "NameError",
          "evalue": "ignored",
          "traceback": [
            "\u001b[0;31m---------------------------------------------------------------------------\u001b[0m",
            "\u001b[0;31mNameError\u001b[0m                                 Traceback (most recent call last)",
            "\u001b[0;32m<ipython-input-12-25b39c82e0d1>\u001b[0m in \u001b[0;36m<module>\u001b[0;34m()\u001b[0m\n\u001b[0;32m----> 1\u001b[0;31m \u001b[0mplot_sample\u001b[0m\u001b[0;34m(\u001b[0m\u001b[0mX_test\u001b[0m\u001b[0;34m,\u001b[0m \u001b[0my_test\u001b[0m\u001b[0;34m,\u001b[0m\u001b[0;36m3\u001b[0m\u001b[0;34m)\u001b[0m\u001b[0;34m\u001b[0m\u001b[0;34m\u001b[0m\u001b[0m\n\u001b[0m",
            "\u001b[0;31mNameError\u001b[0m: name 'plot_sample' is not defined"
          ]
        }
      ],
      "source": [
        "plot_sample(X_test, y_test,3)"
      ]
    },
    {
      "cell_type": "code",
      "execution_count": null,
      "metadata": {
        "id": "z2cCcczkaa3M"
      },
      "outputs": [],
      "source": [
        "classes[y_classes[3]]"
      ]
    },
    {
      "cell_type": "markdown",
      "source": [
        "SAVE MODEL"
      ],
      "metadata": {
        "id": "YSrTvoaaiJiF"
      }
    },
    {
      "cell_type": "code",
      "source": [
        "'''\n",
        "import joblib\n",
        "# save the model to disk\n",
        "filename = 'finalized_model.sav'\n",
        "joblib.dump(model, filename)\n",
        " \n",
        "# some time later...\n",
        " \n",
        "# load the model from disk\n",
        "loaded_model = joblib.load(filename)\n",
        "result = loaded_model.score(X_test, Y_test)\n",
        "print(result)'''"
      ],
      "metadata": {
        "id": "6B4RsGvOiB8j"
      },
      "execution_count": null,
      "outputs": []
    },
    {
      "cell_type": "code",
      "source": [
        ""
      ],
      "metadata": {
        "id": "i0e5WCKuiB4y"
      },
      "execution_count": null,
      "outputs": []
    },
    {
      "cell_type": "code",
      "source": [
        ""
      ],
      "metadata": {
        "id": "Pb2ejQRMiB0l"
      },
      "execution_count": null,
      "outputs": []
    }
  ],
  "metadata": {
    "colab": {
      "collapsed_sections": [],
      "name": "BinaryColourClassification.ipynb",
      "provenance": []
    },
    "gpuClass": "standard",
    "kernelspec": {
      "display_name": "Python 3",
      "language": "python",
      "name": "python3"
    },
    "language_info": {
      "codemirror_mode": {
        "name": "ipython",
        "version": 3
      },
      "file_extension": ".py",
      "mimetype": "text/x-python",
      "name": "python",
      "nbconvert_exporter": "python",
      "pygments_lexer": "ipython3",
      "version": "3.8.5"
    }
  },
  "nbformat": 4,
  "nbformat_minor": 0
}